{
 "cells": [
  {
   "cell_type": "markdown",
   "metadata": {},
   "source": [
    "Author: Valdo Joao - valdojoao90@gmail.com <br>\n",
    "Title: Data Engineering Task <br>\n",
    "Date: 22/09/2019\n",
    "\n",
    "## Event Data Analytics "
   ]
  },
  {
   "cell_type": "markdown",
   "metadata": {},
   "source": [
    "The goal of this project is to undertake analysis of event data received as a stream of events related to an individuals browsing behaviour, with each event having a number of properties which describe the users browsing."
   ]
  },
  {
   "cell_type": "markdown",
   "metadata": {},
   "source": [
    "### Event Data Model\n",
    "\n",
    "The event data can be found within the file `sample_data_120819.tar.gz. It contains the following fields:\n",
    "    \n",
    "- `event_time_stamp` :- ISO formatted timestamp of when the event occured **[timestamp]**\n",
    "- `beacon_id` :- id for the beacon this event is related too **[str] **\n",
    "- `content_type` :- content_type of the event **[categorical str]**\n",
    "- `content`:- content object containing descriptors of the event  **[JSON object]**\n",
    "    \n",
    "\n",
    "In order to understand these events it is important to note that they desrcibe the behaviour of **beacons** which appear\n",
    "within an individuals browsing sessions. A **beacon** is an area of the website that a user is browsing, normally an advertisement. "
   ]
  },
  {
   "cell_type": "markdown",
   "metadata": {},
   "source": [
    "## 1 - Initial Analysis"
   ]
  },
  {
   "cell_type": "markdown",
   "metadata": {},
   "source": [
    "The following cells contain a simple initial analysis of the data to illustrate how to analyse the data. <br>\n",
    "Some useful python libraries for analysis are imported and the data loaded into the notebook"
   ]
  },
  {
   "cell_type": "code",
   "execution_count": 1,
   "metadata": {},
   "outputs": [],
   "source": [
    "# The commands in this cell should be run if you do not have the required python packages in your environment\n",
    "#import sys\n",
    "#!{sys.executable} -m pip install numpy\n",
    "#!{sys.executable} -m pip install matplotlib\n",
    "#!{sys.executable} -m pip install pandas"
   ]
  },
  {
   "cell_type": "code",
   "execution_count": 2,
   "metadata": {},
   "outputs": [],
   "source": [
    "import pandas as pd\n",
    "import numpy as np"
   ]
  },
  {
   "cell_type": "code",
   "execution_count": 3,
   "metadata": {},
   "outputs": [],
   "source": [
    "df = pd.read_csv('sample_data_190819.csv')"
   ]
  },
  {
   "cell_type": "markdown",
   "metadata": {},
   "source": [
    "Before proceeding to analyse the data we view it to check it is loaded correctly and get a feel od the data we have."
   ]
  },
  {
   "cell_type": "code",
   "execution_count": 4,
   "metadata": {},
   "outputs": [
    {
     "data": {
      "text/html": [
       "<div>\n",
       "<style scoped>\n",
       "    .dataframe tbody tr th:only-of-type {\n",
       "        vertical-align: middle;\n",
       "    }\n",
       "\n",
       "    .dataframe tbody tr th {\n",
       "        vertical-align: top;\n",
       "    }\n",
       "\n",
       "    .dataframe thead th {\n",
       "        text-align: right;\n",
       "    }\n",
       "</style>\n",
       "<table border=\"1\" class=\"dataframe\">\n",
       "  <thead>\n",
       "    <tr style=\"text-align: right;\">\n",
       "      <th></th>\n",
       "      <th>event_time_stamp</th>\n",
       "      <th>beacon_id</th>\n",
       "      <th>content_type</th>\n",
       "      <th>content</th>\n",
       "    </tr>\n",
       "  </thead>\n",
       "  <tbody>\n",
       "    <tr>\n",
       "      <th>0</th>\n",
       "      <td>2019-08-19 10:12:30.854 Europe/Stockholm</td>\n",
       "      <td>NaN</td>\n",
       "      <td>application/vnd.tobii.atex.session-started-eve...</td>\n",
       "      <td>{\"geo\":{\"country\":{\"name\":\"Sweden\",\"iso_3166_1...</td>\n",
       "    </tr>\n",
       "    <tr>\n",
       "      <th>1</th>\n",
       "      <td>2019-08-19 10:12:43.505 Europe/Stockholm</td>\n",
       "      <td>NaN</td>\n",
       "      <td>application/vnd.tobii.atex.session-started-eve...</td>\n",
       "      <td>{\"geo\":{\"country\":{\"name\":\"Sweden\",\"iso_3166_1...</td>\n",
       "    </tr>\n",
       "    <tr>\n",
       "      <th>2</th>\n",
       "      <td>2019-08-19 10:12:50.689 Europe/Stockholm</td>\n",
       "      <td>NaN</td>\n",
       "      <td>application/vnd.tobii.atex.session-started-eve...</td>\n",
       "      <td>{\"geo\":{\"country\":{\"name\":\"Sweden\",\"iso_3166_1...</td>\n",
       "    </tr>\n",
       "    <tr>\n",
       "      <th>3</th>\n",
       "      <td>2019-08-19 10:13:01.101 Europe/Stockholm</td>\n",
       "      <td>NaN</td>\n",
       "      <td>application/vnd.tobii.atex.session-started-eve...</td>\n",
       "      <td>{\"geo\":{\"country\":{\"name\":\"Sweden\",\"iso_3166_1...</td>\n",
       "    </tr>\n",
       "    <tr>\n",
       "      <th>4</th>\n",
       "      <td>2019-08-19 10:13:08.773 Europe/Stockholm</td>\n",
       "      <td>NaN</td>\n",
       "      <td>application/vnd.tobii.atex.session-started-eve...</td>\n",
       "      <td>{\"geo\":{\"country\":{\"name\":\"Sweden\",\"iso_3166_1...</td>\n",
       "    </tr>\n",
       "  </tbody>\n",
       "</table>\n",
       "</div>"
      ],
      "text/plain": [
       "                           event_time_stamp beacon_id  \\\n",
       "0  2019-08-19 10:12:30.854 Europe/Stockholm       NaN   \n",
       "1  2019-08-19 10:12:43.505 Europe/Stockholm       NaN   \n",
       "2  2019-08-19 10:12:50.689 Europe/Stockholm       NaN   \n",
       "3  2019-08-19 10:13:01.101 Europe/Stockholm       NaN   \n",
       "4  2019-08-19 10:13:08.773 Europe/Stockholm       NaN   \n",
       "\n",
       "                                        content_type  \\\n",
       "0  application/vnd.tobii.atex.session-started-eve...   \n",
       "1  application/vnd.tobii.atex.session-started-eve...   \n",
       "2  application/vnd.tobii.atex.session-started-eve...   \n",
       "3  application/vnd.tobii.atex.session-started-eve...   \n",
       "4  application/vnd.tobii.atex.session-started-eve...   \n",
       "\n",
       "                                             content  \n",
       "0  {\"geo\":{\"country\":{\"name\":\"Sweden\",\"iso_3166_1...  \n",
       "1  {\"geo\":{\"country\":{\"name\":\"Sweden\",\"iso_3166_1...  \n",
       "2  {\"geo\":{\"country\":{\"name\":\"Sweden\",\"iso_3166_1...  \n",
       "3  {\"geo\":{\"country\":{\"name\":\"Sweden\",\"iso_3166_1...  \n",
       "4  {\"geo\":{\"country\":{\"name\":\"Sweden\",\"iso_3166_1...  "
      ]
     },
     "execution_count": 4,
     "metadata": {},
     "output_type": "execute_result"
    }
   ],
   "source": [
    "df.head()"
   ]
  },
  {
   "cell_type": "code",
   "execution_count": 5,
   "metadata": {},
   "outputs": [
    {
     "data": {
      "text/html": [
       "<div>\n",
       "<style scoped>\n",
       "    .dataframe tbody tr th:only-of-type {\n",
       "        vertical-align: middle;\n",
       "    }\n",
       "\n",
       "    .dataframe tbody tr th {\n",
       "        vertical-align: top;\n",
       "    }\n",
       "\n",
       "    .dataframe thead th {\n",
       "        text-align: right;\n",
       "    }\n",
       "</style>\n",
       "<table border=\"1\" class=\"dataframe\">\n",
       "  <thead>\n",
       "    <tr style=\"text-align: right;\">\n",
       "      <th></th>\n",
       "      <th>event_time_stamp</th>\n",
       "      <th>beacon_id</th>\n",
       "      <th>content_type</th>\n",
       "      <th>content</th>\n",
       "    </tr>\n",
       "  </thead>\n",
       "  <tbody>\n",
       "    <tr>\n",
       "      <th>count</th>\n",
       "      <td>2910</td>\n",
       "      <td>2324</td>\n",
       "      <td>2910</td>\n",
       "      <td>2910</td>\n",
       "    </tr>\n",
       "    <tr>\n",
       "      <th>unique</th>\n",
       "      <td>1495</td>\n",
       "      <td>1183</td>\n",
       "      <td>5</td>\n",
       "      <td>2910</td>\n",
       "    </tr>\n",
       "    <tr>\n",
       "      <th>top</th>\n",
       "      <td>2019-08-13 21:33:21.336 Europe/Stockholm</td>\n",
       "      <td>0be56815-1065-4d17-8c5d-aef1e0bd3b10</td>\n",
       "      <td>application/vnd.tobii.atex.beacon-detected-eve...</td>\n",
       "      <td>{\"geo\":{\"country\":{\"name\":\"Sweden\",\"iso_3166_1...</td>\n",
       "    </tr>\n",
       "    <tr>\n",
       "      <th>freq</th>\n",
       "      <td>17</td>\n",
       "      <td>9</td>\n",
       "      <td>1182</td>\n",
       "      <td>1</td>\n",
       "    </tr>\n",
       "  </tbody>\n",
       "</table>\n",
       "</div>"
      ],
      "text/plain": [
       "                                event_time_stamp  \\\n",
       "count                                       2910   \n",
       "unique                                      1495   \n",
       "top     2019-08-13 21:33:21.336 Europe/Stockholm   \n",
       "freq                                          17   \n",
       "\n",
       "                                   beacon_id  \\\n",
       "count                                   2324   \n",
       "unique                                  1183   \n",
       "top     0be56815-1065-4d17-8c5d-aef1e0bd3b10   \n",
       "freq                                       9   \n",
       "\n",
       "                                             content_type  \\\n",
       "count                                                2910   \n",
       "unique                                                  5   \n",
       "top     application/vnd.tobii.atex.beacon-detected-eve...   \n",
       "freq                                                 1182   \n",
       "\n",
       "                                                  content  \n",
       "count                                                2910  \n",
       "unique                                               2910  \n",
       "top     {\"geo\":{\"country\":{\"name\":\"Sweden\",\"iso_3166_1...  \n",
       "freq                                                    1  "
      ]
     },
     "execution_count": 5,
     "metadata": {},
     "output_type": "execute_result"
    }
   ],
   "source": [
    "df.describe()"
   ]
  },
  {
   "cell_type": "markdown",
   "metadata": {},
   "source": [
    "Lets will look at the time distribution of events. \n",
    "The `event_time_stamp` column is currently formatted as an object and should be changed to a datetime in order to\n",
    "allows us to manipulate and analyse it."
   ]
  },
  {
   "cell_type": "code",
   "execution_count": 6,
   "metadata": {},
   "outputs": [],
   "source": [
    "from datetime import datetime\n",
    "\n",
    "### convert the string timestamps into datetime objects for analysis\n",
    "def convert_to_datetime_hour(string, date_format = '%Y-%m-%d %H:%M:%S.%f'):\n",
    "    tz_naive_string = string[:23]\n",
    "    datetime_string = datetime.strptime(tz_naive_string, date_format)\n",
    "    return datetime_string.replace(minute = 0, second = 0, microsecond = 0)\n",
    "    \n",
    "df['datetime_hour'] = df['event_time_stamp'].apply(lambda x: convert_to_datetime_hour(x))"
   ]
  },
  {
   "cell_type": "code",
   "execution_count": 7,
   "metadata": {},
   "outputs": [
    {
     "name": "stdout",
     "output_type": "stream",
     "text": [
      "                  Hour  Number_Events\n",
      "0  2019-08-13 21:00:00            126\n",
      "1  2019-08-13 22:00:00              8\n",
      "2  2019-08-14 09:00:00            256\n",
      "3  2019-08-14 10:00:00             47\n",
      "4  2019-08-14 11:00:00              5\n",
      "5  2019-08-15 15:00:00              2\n",
      "6  2019-08-15 16:00:00             31\n",
      "7  2019-08-15 17:00:00            198\n",
      "8  2019-08-15 18:00:00             21\n",
      "9  2019-08-15 20:00:00            219\n",
      "10 2019-08-16 07:00:00             97\n",
      "11 2019-08-16 10:00:00             24\n",
      "12 2019-08-16 11:00:00             36\n",
      "13 2019-08-16 14:00:00            170\n",
      "14 2019-08-16 15:00:00            144\n",
      "15 2019-08-16 16:00:00            156\n",
      "16 2019-08-16 17:00:00             12\n",
      "17 2019-08-17 22:00:00             20\n",
      "18 2019-08-17 23:00:00             35\n",
      "19 2019-08-18 10:00:00             25\n",
      "20 2019-08-18 11:00:00             31\n",
      "21 2019-08-18 12:00:00            219\n",
      "22 2019-08-18 13:00:00            187\n",
      "23 2019-08-18 15:00:00            122\n",
      "24 2019-08-18 16:00:00            241\n",
      "25 2019-08-18 18:00:00             14\n",
      "26 2019-08-19 10:00:00             26\n",
      "27 2019-08-19 11:00:00             32\n",
      "28 2019-08-19 12:00:00             12\n",
      "29 2019-08-19 13:00:00            108\n",
      "30 2019-08-19 14:00:00              7\n",
      "31 2019-08-19 16:00:00             37\n",
      "32 2019-08-19 17:00:00             78\n",
      "33 2019-08-20 09:00:00              5\n",
      "34 2019-08-20 10:00:00              4\n",
      "35 2019-08-20 11:00:00              3\n",
      "36 2019-08-20 13:00:00             23\n",
      "37 2019-08-20 14:00:00             26\n",
      "38 2019-08-20 15:00:00            102\n",
      "39 2019-08-20 16:00:00              1\n"
     ]
    }
   ],
   "source": [
    "keep_columns = ['datetime_hour', 'content_type']\n",
    "# group the data set by 'datetime' object and count the number of events\n",
    "df_date_time = df.loc[:, keep_columns].groupby('datetime_hour').count().reset_index()\n",
    "df_date_time.columns = ['Hour', 'Number_Events']\n",
    "print(df_date_time)"
   ]
  },
  {
   "cell_type": "code",
   "execution_count": 8,
   "metadata": {},
   "outputs": [],
   "source": [
    "import matplotlib"
   ]
  },
  {
   "cell_type": "code",
   "execution_count": 9,
   "metadata": {},
   "outputs": [
    {
     "data": {
      "image/png": "[encoded data removed]",
      "text/plain": [
       "<Figure size 792x288 with 1 Axes>"
      ]
     },
     "metadata": {},
     "output_type": "display_data"
    }
   ],
   "source": [
    "import matplotlib.pyplot as plt\n",
    "# Will allow us to embed images in the notebook\n",
    "%matplotlib inline\n",
    "import seaborn as sns\n",
    "\n",
    "sns.set(rc = {'figure.figsize':(11, 4)})\n",
    "df_date_time.plot(x = 'Hour', y = 'Number_Events', linewidth = 0.5);\n",
    "plt.title(\"Number of events per hour\")\n",
    "plt.ylabel(\"Number of Events\")\n",
    "plt.xlabel(\"Hour\")\n",
    "plt.show()"
   ]
  },
  {
   "cell_type": "markdown",
   "metadata": {},
   "source": [
    "## 2 - JSON analysis\n",
    "\n",
    "This part shows how to interogate the JSON `content` field in order to extract properties for analysis."
   ]
  },
  {
   "cell_type": "code",
   "execution_count": 10,
   "metadata": {},
   "outputs": [
    {
     "name": "stdout",
     "output_type": "stream",
     "text": [
      "<class 'pandas.core.frame.DataFrame'>\n",
      "RangeIndex: 2910 entries, 0 to 2909\n",
      "Data columns (total 5 columns):\n",
      "event_time_stamp    2910 non-null object\n",
      "beacon_id           2324 non-null object\n",
      "content_type        2910 non-null object\n",
      "content             2910 non-null object\n",
      "datetime_hour       2910 non-null datetime64[ns]\n",
      "dtypes: datetime64[ns](1), object(4)\n",
      "memory usage: 113.8+ KB\n"
     ]
    }
   ],
   "source": [
    "df.info()"
   ]
  },
  {
   "cell_type": "code",
   "execution_count": 11,
   "metadata": {},
   "outputs": [],
   "source": [
    "import json\n",
    "\n",
    "df['content_json'] = df['content'].apply(json.loads)       #Creating a column with the JSON content\n",
    "df_content = pd.io.json.json_normalize(df['content_json']) #Helper function to create flat table from nested JSON"
   ]
  },
  {
   "cell_type": "code",
   "execution_count": 12,
   "metadata": {},
   "outputs": [],
   "source": [
    "# remove NA's from the browser hostname data\n",
    "df_hostname = df_content.loc[:,['browser.page.url.hostname', 'time.stamp']].dropna()\n",
    "\n",
    "# create an hourly column\n",
    "date_format = '%Y-%m-%dT%H:%M:%S.%f'\n",
    "df_hostname['datetime_hour'] = df_hostname['time.stamp'].apply(lambda x: convert_to_datetime_hour(x, date_format))\n",
    "\n",
    "# renaming columns\n",
    "df_hostname.columns = ['Hostname', 'Datetime', 'Hour'] "
   ]
  },
  {
   "cell_type": "code",
   "execution_count": 13,
   "metadata": {},
   "outputs": [],
   "source": [
    "# grouping and counting events by hostname by hour\n",
    "sorted_df = df_hostname.groupby(['Hostname']).count().reset_index().sort_values(by=['Datetime'], ascending=False)\n",
    "sorted_df = sorted_df[0:5]"
   ]
  },
  {
   "cell_type": "code",
   "execution_count": 14,
   "metadata": {},
   "outputs": [
    {
     "data": {
      "text/plain": [
       "<matplotlib.axes._subplots.AxesSubplot at 0x7fa7f9f53e48>"
      ]
     },
     "execution_count": 14,
     "metadata": {},
     "output_type": "execute_result"
    },
    {
     "data": {
      "image/png": "[encoded data removed]",
      "text/plain": [
       "<Figure size 432x288 with 1 Axes>"
      ]
     },
     "metadata": {
      "needs_background": "light"
     },
     "output_type": "display_data"
    }
   ],
   "source": [
    "# plotting bar chart over time\n",
    "df_hostname_popular = df_hostname[df_hostname.Hostname.isin(sorted_df['Hostname'].unique())]\n",
    "df_hostname_popular.groupby(['Hour','Hostname']).size().unstack().plot(kind='bar', stacked='True')"
   ]
  },
  {
   "cell_type": "markdown",
   "metadata": {},
   "source": [
    "## 3 - Analytical Question "
   ]
  },
  {
   "cell_type": "markdown",
   "metadata": {},
   "source": [
    "There is a specific field within content `beacon.meta.html`, which contains the html code found within the beacon.\n",
    "The goal is to explore using regular expressions or text mining to try and identify url's that are contained here."
   ]
  },
  {
   "cell_type": "code",
   "execution_count": 15,
   "metadata": {},
   "outputs": [],
   "source": [
    "import re\n",
    "\n",
    "#regex pattern to match url, as assumption lets say that an url has max lenght of 500 characters\n",
    "pattern = 'http[s]?://(?:[a-zA-Z]|[0-9]|[$-_@.&+]|[!*\\(\\)]|(?:%[0-9a-fA-F][0-9a-fA-F])){5,500}'\n",
    "\n",
    "def return_urls(html, pattern):\n",
    "    \n",
    "    # pre-processing for removing unwanted characters  \n",
    "    bad_chars= {\";\":\" \", \"\\\\\":\" \", \",\":\" \"}\n",
    "    html_content = ''.join(bad_chars.get(x, x) for x in html)\n",
    "    \n",
    "    # find all the urls cointained in the html\n",
    "    urls= re.findall(pattern,str(html_content))\n",
    "    if(len(urls) == 0):\n",
    "        print(\"No URL Found\")\n",
    "    else:\n",
    "        for i in range(len(urls)): \n",
    "            print(\"url\", i, \":\", urls[i])"
   ]
  },
  {
   "cell_type": "code",
   "execution_count": 16,
   "metadata": {},
   "outputs": [
    {
     "name": "stdout",
     "output_type": "stream",
     "text": [
      "<class 'pandas.core.frame.DataFrame'>\n",
      "RangeIndex: 2910 entries, 0 to 2909\n",
      "Data columns (total 1 columns):\n",
      "beacon.meta.html    2324 non-null object\n",
      "dtypes: object(1)\n",
      "memory usage: 22.8+ KB\n"
     ]
    }
   ],
   "source": [
    "# verify if there is null data\n",
    "df_content.loc[:,['beacon.meta.html']].info()"
   ]
  },
  {
   "cell_type": "code",
   "execution_count": 17,
   "metadata": {},
   "outputs": [],
   "source": [
    "# remove null data, reset the index and rename the column\n",
    "df_html  = df_content.loc[:,['beacon.meta.html']].dropna().reset_index(drop=True)\n",
    "df_html.columns = ['Html'] "
   ]
  },
  {
   "cell_type": "code",
   "execution_count": 18,
   "metadata": {},
   "outputs": [
    {
     "data": {
      "text/html": [
       "<div>\n",
       "<style scoped>\n",
       "    .dataframe tbody tr th:only-of-type {\n",
       "        vertical-align: middle;\n",
       "    }\n",
       "\n",
       "    .dataframe tbody tr th {\n",
       "        vertical-align: top;\n",
       "    }\n",
       "\n",
       "    .dataframe thead th {\n",
       "        text-align: right;\n",
       "    }\n",
       "</style>\n",
       "<table border=\"1\" class=\"dataframe\">\n",
       "  <thead>\n",
       "    <tr style=\"text-align: right;\">\n",
       "      <th></th>\n",
       "      <th>Html</th>\n",
       "    </tr>\n",
       "  </thead>\n",
       "  <tbody>\n",
       "    <tr>\n",
       "      <th>0</th>\n",
       "      <td>&lt;html amp4ads=\"\" class=\"i-amphtml-inabox i-amp...</td>\n",
       "    </tr>\n",
       "    <tr>\n",
       "      <th>1</th>\n",
       "      <td>&lt;html amp4ads=\"\" class=\"i-amphtml-inabox i-amp...</td>\n",
       "    </tr>\n",
       "    <tr>\n",
       "      <th>2</th>\n",
       "      <td>&lt;html  style=\"min-height: 100vh !important; mi...</td>\n",
       "    </tr>\n",
       "    <tr>\n",
       "      <th>3</th>\n",
       "      <td>&lt;div class=\"ytp-ad-image-overlay\" style=\"max-w...</td>\n",
       "    </tr>\n",
       "    <tr>\n",
       "      <th>4</th>\n",
       "      <td>&lt;div class=\"ytp-ad-image-overlay\" style=\"max-w...</td>\n",
       "    </tr>\n",
       "  </tbody>\n",
       "</table>\n",
       "</div>"
      ],
      "text/plain": [
       "                                                Html\n",
       "0  <html amp4ads=\"\" class=\"i-amphtml-inabox i-amp...\n",
       "1  <html amp4ads=\"\" class=\"i-amphtml-inabox i-amp...\n",
       "2  <html  style=\"min-height: 100vh !important; mi...\n",
       "3  <div class=\"ytp-ad-image-overlay\" style=\"max-w...\n",
       "4  <div class=\"ytp-ad-image-overlay\" style=\"max-w..."
      ]
     },
     "execution_count": 18,
     "metadata": {},
     "output_type": "execute_result"
    }
   ],
   "source": [
    "df_html.head()"
   ]
  },
  {
   "cell_type": "code",
   "execution_count": 19,
   "metadata": {},
   "outputs": [
    {
     "name": "stdout",
     "output_type": "stream",
     "text": [
      "========================== Index 34 ==========================\n",
      "url 0 : https://pagead2.googlesyndication.com/pagead/gen_204?id=jserror&\n",
      "url 1 : https://s0.2mdn.net/879366/express_html_inpage_rendering_lib_200_246.js\n",
      "url 2 : https://pagead2.googlesyndication.com/pcs/activeview?xai=AKAOjssMBUN9aXOeB4KmBeOJMltNTqbYgzKD8ahC-UsvyMg9KEEzHcfeeCkBhxUXKZJlEgGs7eo338FwUrz3edgTXl_TtVFlfHoYm8KzxvU5_4dFnp5ZF1WR9w&amp\n",
      "url 3 : https://pagead2.googlesyndication.com/pagead/gen_204?id=xbid&amp\n",
      "url 4 : https://googleads.g.doubleclick.net/xbbe/pixel?d=CI3lFBD2z0MY_ZLFGzAB&amp\n",
      "url 5 : https://googleads.g.doubleclick.net/dbm/ad?dbm_c=AKAmf-DN7n5zXmsrAdvJp9cOzrKSaJCG20srPl1dt5YdF-t4LlWLTEEA5xrd5qemJ_u818Kup-QTXtIcd9enlPUW4BZIKz4Uuw&dbm_d=AKAmf-AaxMyhJmyQ_eLw20kMEQdl62EVlC9NNFTRcXEoRM_Z5g0RINQu-UCafvq6pOCWGxEMczuSnhDb5eyshzVmV8TnlSp2WDxmLH8Hp8SgI0_idS3LVu2NYQFh3OCopAD9-B9--PxZhz4VLwBl3hVrHcurUJkmz01JvDrsP5-C6THrU4MbmOB8yly-J5PtslX01Nq4vn2LPVV3MLkKCAuHsGIRMNw2jScM0STd2kaooi4_RjUZRij4ExcDx1H0ewIcqPYFSd1cK9LuuGGr8-g0taJtqlmmOqdPdxmbQkrKLRePNdKrhx7iCf1X8BudCE2G6XfPFxEcgQVkzc1MOokd586SzptGGx\n",
      "url 6 : https://googleads.g.doubleclick.net/dbm/ad?dbm_c=AKAmf-DN7n5zXmsrAdvJp9cOzrKSaJCG20srPl1dt5YdF-t4LlWLTEEA5xrd5qemJ_u818Kup-QTXtIcd9enlPUW4BZIKz4Uuw&amp\n",
      "url 7 : https://s0.2mdn.net/879366/express_html_inpage_rendering_lib_200_246.js'\n",
      "url 8 : https://googleads4.g.doubleclick.net/pcs/view?xai\n",
      "url 9 : https://ade.googlesyndication.com/ddm/activity/dc_oe\n",
      "url 10 : https://ad.doubleclick.net/activity\n",
      "url 11 : https://adclick.g.doubleclick.net/pcs/click?xai\n",
      "url 12 : https://s0.2mdn.net/5640759/1543407885713/index.html'\n",
      "url 13 : https://s0.2mdn.net/5640759/1543407886_fallback.jpg'\n",
      "url 14 : https://www.trygghansa.se/forsakringar/hemforsakring/'\n",
      "url 15 : https://www.trygghansa.se/forsakringar/hemforsakring/'\n",
      "url 16 : https://s0.2mdn.net/5640759/1543407885713/index.html\n",
      "url 17 : https://adclick.g.doubleclick.net/pcs/click?xai=AKAOjssoN1IFYngNLcsTwV0WFkQf_BO72ggzQiq8d55lvTG6-umchAAa2M5Mali7wDQgo2xaEVIFAbnzzwfo78f2KTfv27J94EAF9KOFI62xVkJS3u5Ks278GR75Yo4k5iJkJtThj6wZLDgBbITW47Gai5qA7BjaM-XdqXapk_za2lxoCQ8UpQy8M4m_DECVPtNyFn97UbFtYtF6dZ1oxWxtvwxMsqDzeaHThI1q_3ssdQqTHU1QKtzAltOZKxMTHswvxQpkDiZgePDG9CtxxGlrolXMdEqV5IXHmc5APvRR_h2ZboQaXCuj8BglTB7DREv64mJuw3eg3-lCwA503OvKUg_hIwktqpmzAajgZJcS-vQGBGjSTCu8ylYfpL9Mo8KwIjq7CSoin2c77GuEZh7-HKaQYmEeUUlzpdxFuoEYywTGNEBEEGVFF4EvQPWgkWc2yN654PKX\n",
      "url 18 : https://www.trygghansa.se/forsakringar/hemforsakring/\n",
      "url 19 : https://s0.2mdn.net/5640759/1543407886_fallback.jpg\n",
      "url 20 : http://www.w3.org/2000/svg\n",
      "url 21 : http://www.w3.org/1999/xlink\n",
      "url 22 : https://adssettings.google.com/whythisad?reasons=AB3afGEAAAFRW1tbW10sW251bGwsbnVsbCxbbnVsbCxudWxsLG51bGwsImh0dHBzOi8vZGlzcGxheWFkcy1mb3JtYXRzLmdvb2dsZXVzZXJjb250ZW50LmNvbS9hZHMvcHJldmlldy9jb250ZW50LmpzP2NsaWVudD13dGFcdTAwMjZvYmZ1c2NhdGVkQ3VzdG9tZXJJZD0yNzMwOTA5ODU3XHUwMDI2Y3JlYXRpdmVJZD0zMDU3Njk2OTU5MTZcdTAwMjZ2ZXJzaW9uSWQ9MFx1MDAyNmFkR3JvdXBDcmVhdGl2ZUlkPTI4MTQ3Mzc4NTA0NVx1MDAyNmh0bWxQYXJlbnRJZD1wcmV2LTBcdTAwMjZoZWlnaHQ9MFx1MDAyNndpZHRoPTBcdTAwMjZzaWc9QUNpVkJfem8xcm4yVlJTQWxwd0FjQndxZGx3ZjVHQkRlQSJdXV1\n",
      "url 23 : https://googleads.g.doubleclick.net/pagead/conversion/%3Fai%3DCmEH8o31VXYrUA4m87gTG-bVIuqCz6VfVuZTJmAjwLhABINjqtiBg8Y36haQfoAGBtKikA8gBCakCHUS_tUnoez6oAwHIA5sEqgTMAU_QPzBRUUfQdFyX3aK9ZHiiSCn5AsLKPNmWY9l8m1K1WnxqFY-CHJaw9ilRpXtI5KOoFL3tEatJm7nbBDTyUqGg7C3qQVEkP2s6y3lutzACNnVJ1l8asn-eHTLdONLdMTTZVCzdki9IDnehsPJ9t1kBKVulyQT473GYC6oQ21cDpS-7HbpFGh2cTcdaIg8csW4xmHt8M94HDZh_YUdyHldIlghghujHwNcT4ymlxxSh6xBl4PCYEos-NI0zlLwJI3HbV6wcvmpF_23Rd-AEA5AGAaAGTIAH58vXW6gHjs4bqAfVyRuoB8HTG6gHhdQbqAeB1BuoB4LUG6gHhtQbqAeE1\n",
      "url 24 : http://www.w3.org/2000/svg\n",
      "url 25 : http://www.w3.org/1999/xlink\n",
      "url 26 : https://pagead2.googlesyndication.com/pagead/js/r20190812/r20110914/abg_lite.js\n",
      "url 27 : https://googleads.g.doubleclick.net/pagead/images/mtad/x_blue.png\n",
      "url 28 : https://googleads.g.doubleclick.net/pagead/images/mtad/x_blue.png\n",
      "url 29 : https://googleads.g.doubleclick.net/pagead/conversion/?ai\n",
      "url 30 : https://googleads.g.doubleclick.net/pagead/images/mtad/back_blue.png\n",
      "url 31 : https://googleads.g.doubleclick.net/pagead/images/mtad/ad_choices_blue.png\n",
      "url 32 : https://www.google.com/url?ct\n",
      "url 33 : https://www.google.com/adsense/support/bin/request.py%3Fcontact%3Dabg_afc%26url%3Dhttps://www.sitepoint.com/essential-audio-and-video-events-for-html5/%26gl%3DSE%26hl%3Den%26ai0%3D\n",
      "url 34 : https://googleads.g.doubleclick.net/pagead/images/mtad/x_blue.png\n",
      "url 35 : https://googleads.g.doubleclick.net/pagead/images/adchoices/iconx2-000000.png\n",
      "url 36 : https://www.gstatic.com/images/branding/googlelogo/2x/googlelogo_dark_color_84x28dp.png\n",
      "url 37 : https://www.gstatic.com\n",
      "url 38 : https://adssettings.google.com\n",
      "url 39 : https://adssettings.google.com/whythisad?reasons\n",
      "url 40 : https://googleads.g.doubleclick.net/pagead/conversion/%3Fai%3DCmEH8o31VXYrUA4m87gTG-bVIuqCz6VfVuZTJmAjwLhABINjqtiBg8Y36haQfoAGBtKikA8gBCakCHUS_tUnoez6oAwHIA5sEqgTMAU_QPzBRUUfQdFyX3aK9ZHiiSCn5AsLKPNmWY9l8m1K1WnxqFY-CHJaw9ilRpXtI5KOoFL3tEatJm7nbBDTyUqGg7C3qQVEkP2s6y3lutzACNnVJ1l8asn-eHTLdONLdMTTZVCzdki9IDnehsPJ9t1kBKVulyQT473GYC6oQ21cDpS-7HbpFGh2cTcdaIg8csW4xmHt8M94HDZh_YUdyHldIlghghujHwNcT4ymlxxSh6xBl4PCYEos-NI0zlLwJI3HbV6wcvmpF_23Rd-AEA5AGAaAGTIAH58vXW6gHjs4bqAfVyRuoB8HTG6gHhdQbqAeB1BuoB4LUG6gHhtQbqAeE1\n",
      "url 41 : https://googleads.g.doubleclick.net/pagead/images/mtad/x_blue.png\n",
      "url 42 : https://googleads.g.doubleclick.net/pagead/images/mtad/x_blue.png\n",
      "url 43 : https://googleads.g.doubleclick.net/pagead/conversion/?ai=CmEH8o31VXYrUA4m87gTG-bVIuqCz6VfVuZTJmAjwLhABINjqtiBg8Y36haQfoAGBtKikA8gBCakCHUS_tUnoez6oAwHIA5sEqgTMAU_QPzBRUUfQdFyX3aK9ZHiiSCn5AsLKPNmWY9l8m1K1WnxqFY-CHJaw9ilRpXtI5KOoFL3tEatJm7nbBDTyUqGg7C3qQVEkP2s6y3lutzACNnVJ1l8asn-eHTLdONLdMTTZVCzdki9IDnehsPJ9t1kBKVulyQT473GYC6oQ21cDpS-7HbpFGh2cTcdaIg8csW4xmHt8M94HDZh_YUdyHldIlghghujHwNcT4ymlxxSh6xBl4PCYEos-NI0zlLwJI3HbV6wcvmpF_23Rd-AEA5AGAaAGTIAH58vXW6gHjs4bqAfVyRuoB8HTG6gHhdQbqAeB1BuoB4LUG6gHhtQbqAeE1BuoB\n",
      "url 44 : https://googleads.g.doubleclick.net/pagead/images/mtad/back_blue.png\n",
      "url 45 : https://googleads.g.doubleclick.net/pagead/images/mtad/ad_choices_blue.png\n",
      "url 46 : https://www.google.com/url?ct=abg\n",
      "url 47 : https://www.google.com/adsense/support/bin/request.py%3Fcontact%3Dabg_afc%26url%3Dhttps://www.sitepoint.com/essential-audio-and-video-events-for-html5/%26gl%3DSE%26hl%3Den%26ai0%3D\n",
      "url 48 : https://googleads.g.doubleclick.net/pagead/images/mtad/x_blue.png\n",
      "url 49 : https://googleads.g.doubleclick.net/pagead/images/adchoices/iconx2-000000.png\n",
      "url 50 : https://www.gstatic.com/images/branding/googlelogo/2x/googlelogo_dark_color_84x28dp.png\n",
      "url 51 : https://www.gstatic.com\n",
      "url 52 : https://adssettings.google.com\n",
      "url 53 : https://adssettings.google.com/whythisad?reasons=AB3afGEAAAFRW1tbW10sW251bGwsbnVsbCxbbnVsbCxudWxsLG51bGwsImh0dHBzOi8vZGlzcGxheWFkcy1mb3JtYXRzLmdvb2dsZXVzZXJjb250ZW50LmNvbS9hZHMvcHJldmlldy9jb250ZW50LmpzP2NsaWVudD13dGFcdTAwMjZvYmZ1c2NhdGVkQ3VzdG9tZXJJZD0yNzMwOTA5ODU3XHUwMDI2Y3JlYXRpdmVJZD0zMDU3Njk2OTU5MTZcdTAwMjZ2ZXJzaW9uSWQ9MFx1MDAyNmFkR3JvdXBDcmVhdGl2ZUlkPTI4MTQ3Mzc4NTA0NVx1MDAyNmh0bWxQYXJlbnRJZD1wcmV2LTBcdTAwMjZoZWlnaHQ9MFx1MDAyNndpZHRoPTBcdTAwMjZzaWc9QUNpVkJfem8xcm4yVlJTQWxwd0FjQndxZGx3ZjVHQkRlQSJdXV1\n",
      "url 54 : https://googleads.g.doubleclick.net/pagead/conversion/%3Fai%3DCmEH8o31VXYrUA4m87gTG-bVIuqCz6VfVuZTJmAjwLhABINjqtiBg8Y36haQfoAGBtKikA8gBCakCHUS_tUnoez6oAwHIA5sEqgTMAU_QPzBRUUfQdFyX3aK9ZHiiSCn5AsLKPNmWY9l8m1K1WnxqFY-CHJaw9ilRpXtI5KOoFL3tEatJm7nbBDTyUqGg7C3qQVEkP2s6y3lutzACNnVJ1l8asn-eHTLdONLdMTTZVCzdki9IDnehsPJ9t1kBKVulyQT473GYC6oQ21cDpS-7HbpFGh2cTcdaIg8csW4xmHt8M94HDZh_YUdyHldIlghghujHwNcT4ymlxxSh6xBl4PCYEos-NI0zlLwJI3HbV6wcvmpF_23Rd-AEA5AGAaAGTIAH58vXW6gHjs4bqAfVyRuoB8HTG6gHhdQbqAeB1BuoB4LUG6gHhtQbqAeE1\n",
      "url 55 : https://pagead2.googlesyndication.com/bg/o1Putv1UN_aI0FVA1UD5aEFDNwwYGyQc3EuGUQxE9Gg.js'\n",
      "url 56 : https://tpc.googlesyndication.com/pagead/js/r20190812/r20110914/client/window_focus.js\n",
      "url 57 : https://googleads.g.doubleclick.net/pagead/conversion/?ai\n",
      "url 58 : https://pagead2.googlesyndication.com/pagead/s/cookie_push.html\n",
      "url 59 : https://www.googletagservices.com/activeview/js/current/osd_listener.js?cache=r20110914\n",
      "url 60 : https://pagead2.googlesyndication.com/pcs/activeview?xai\n",
      "url 61 : https://tpc.googlesyndication.com/pagead/js/r20190812/r20110914/client/qs_click_protection.js\n",
      "========================== Index 71 ==========================\n",
      "No URL Found\n",
      "========================== Index 20 ==========================\n",
      "url 0 : https://crcdn09.adnxs.com/creative/p/9943/2019/8/8/13530574/f9fc55a8-778a-4179-aa51-f029e98489c7_768_432_1100k.mp4\n",
      "========================== Index 1 ==========================\n"
     ]
    },
    {
     "name": "stdout",
     "output_type": "stream",
     "text": [
      "url 0 : https://pagead2.googlesyndication.com/pagead/gen_204?id=jserror&\n",
      "url 1 : https://cdn.ampproject.org/\n",
      "url 2 : https://cdn.ampproject.org/rtv/011907301630320/amp4ads-v0.js\n",
      "url 3 : https://cdn.ampproject.org/rtv/011907301630320/amp4ads-v0.js\n",
      "url 4 : https://cdn.ampproject.org/rtv/011907301630320/v0/amp-analytics-0.1.js\n",
      "url 5 : https://tpc.googlesyndication.com\n",
      "url 6 : https://googleads.g.doubleclick.net/pcs/click?xai=AKAOjss7DLv-tXbW80HAs6r0xmqJIaAsNyEakfioIlWxl3Kdrqk4aawsIIBQWn_IJab8IK__3Rm4HVNK7cIvhcRILDW78n03Xof-2qSBlfoRllt7-bV7m7Re_1eXqtciAYJlpY9LvF9L8NHY7GgUICmqT6ztRnwtmpkdmP_4Q1GgU-24DqrI4iHinNAlfps9xVJcrj6WyzAnDk9KeL7pJM6uxH7CYcvPd-zLi8tigmc-FtGjfnbMCGqtKkN_wVJwg9Ih-VeRJtGe9PJAXo8rxp-IBxRrIQfGqTxRZh3768FG&amp\n",
      "url 7 : https://stackoverflow.com/teams%3Futm_source%3Dso-owned%26utm_medium%3Dhouse-ad%26utm_campaign%3Dteams-slack-launch%26utm_content%3D728x90-slack-power&amp\n",
      "url 8 : https://tpc.googlesyndication.com/simgad/12224834426013097647\n",
      "url 9 : https://tpc.googlesyndication.com/simgad/12224834426013097647\n",
      "url 10 : https://securepubads.g.doubleclick.net/pcs/view?xai=AKAOjstYyLYveaapkh1LCBMpkDFowqRoDth5Vs_yAymmd6az9_BuEcNcmLc5EShKrn6El2CbmaRIEjGW_sXrWzmqFHoxBiAVujb7OAgeFyqLGgHHn9FW5DUq3a4ll9Bq5dywQP2HKcbQxU-ms7sLW-QHmnqAq6OX0rmzuW-t2wcJiXR5kqsJW1kPYSz340WlyKUHysDDDzCCG0zKXGUlSG96FOPLMdXjzNPKeMY40HMrhsimxLMryLqQkt4jkUFleNrq8bG1boR97EJmw0PDEnFkfK2eOMRmlLt-BXWXGXI3yQu9&amp\n",
      "url 11 : https://securepubads.g.doubleclick.net/pcs/view?xai=AKAOjstYyLYveaapkh1LCBMpkDFowqRoDth5Vs_yAymmd6az9_BuEcNcmLc5EShKrn6El2CbmaRIEjGW_sXrWzmqFHoxBiAVujb7OAgeFyqLGgHHn9FW5DUq3a4ll9Bq5dywQP2HKcbQxU-ms7sLW-QHmnqAq6OX0rmzuW-t2wcJiXR5kqsJW1kPYSz340WlyKUHysDDDzCCG0zKXGUlSG96FOPLMdXjzNPKeMY40HMrhsimxLMryLqQkt4jkUFleNrq8bG1boR97EJmw0PDEnFkfK2eOMRmlLt-BXWXGXI3yQu9&amp\n",
      "url 12 : https://pagead2.googlesyndication.com/pcs/activeview?xai=AKAOjsvFMyZJdwhRWCh5CgBUnue1AyRbWaPktYJc8y6sd6-CMSuZF-lhWAuN1y95zlhGG03yBzr6SDmE-MXrGqUm6jUMc0ZAafIIeU5bJTmxonw&sig=Cg0ArKJSzJRLnyh5BYiPEAE&id=ampim&o=$\n",
      "url 13 : https://pagead2.googlesyndication.com/pcs/activeview?xai=AKAOjsvFMyZJdwhRWCh5CgBUnue1AyRbWaPktYJc8y6sd6-CMSuZF-lhWAuN1y95zlhGG03yBzr6SDmE-MXrGqUm6jUMc0ZAafIIeU5bJTmxonw&sig=Cg0ArKJSzJRLnyh5BYiPEAE&id=ampeos&o=$\n"
     ]
    }
   ],
   "source": [
    "import random\n",
    "\n",
    "# get 4 random indexes of our data, for each of them extract all the urls \n",
    "for i in range(4):\n",
    "    index = random.randrange(100)\n",
    "    string = df_html.values[index][0]\n",
    "    print(\"========================== Index %r ==========================\" % (index))\n",
    "    return_urls(string, pattern)"
   ]
  },
  {
   "cell_type": "markdown",
   "metadata": {},
   "source": [
    "## 4 - Modelling Question "
   ]
  },
  {
   "cell_type": "markdown",
   "metadata": {},
   "source": [
    "Although each event is quite large, there are not a huge number of distinct events to undertake prediction. However it\n",
    "is interesting to model which variables may be correlated and could act as predictors of others. \n",
    "\n",
    "`The goal is to perform a Classification Model`:- Using the beacon_width or beacon_height, and the time of day to predict which website a beacon\n",
    "    appears on."
   ]
  },
  {
   "cell_type": "code",
   "execution_count": 20,
   "metadata": {},
   "outputs": [],
   "source": [
    "# ignore output warnings\n",
    "import warnings\n",
    "warnings.filterwarnings('ignore')"
   ]
  },
  {
   "cell_type": "code",
   "execution_count": 21,
   "metadata": {},
   "outputs": [
    {
     "name": "stdout",
     "output_type": "stream",
     "text": [
      "<class 'pandas.core.frame.DataFrame'>\n",
      "RangeIndex: 2910 entries, 0 to 2909\n",
      "Data columns (total 4 columns):\n",
      "beacon.height                2324 non-null object\n",
      "beacon.width                 2324 non-null object\n",
      "browser.page.url.hostname    2910 non-null object\n",
      "time.stamp                   2910 non-null object\n",
      "dtypes: object(4)\n",
      "memory usage: 91.0+ KB\n"
     ]
    }
   ],
   "source": [
    "# verify if there is null data\n",
    "df_content.loc[:,['beacon.height','beacon.width', 'browser.page.url.hostname', 'time.stamp']].info()"
   ]
  },
  {
   "cell_type": "code",
   "execution_count": 22,
   "metadata": {},
   "outputs": [],
   "source": [
    "# remove null data and populate dataframe with meaningful content for the classiffication\n",
    "df_beacon = df_content.loc[:,['beacon.height','beacon.width', \n",
    "                              'browser.page.url.hostname', 'time.stamp']].dropna().reset_index(drop=True)\n",
    "\n",
    "# exploit function convert_to_datetime_hour get datetime from string timestamps \n",
    "df_beacon['datetime_hour'] = df_beacon['time.stamp'].apply(lambda x: str(\n",
    "    (convert_to_datetime_hour(x, date_format)).time()))\n",
    "\n",
    "# rename the columns\n",
    "df_beacon.columns = ['Height','Width','Hostname', 'Datetime', 'Hour'] \n",
    "\n",
    "# we only need hour, so we can get rid of Datetime column\n",
    "del df_beacon['Datetime']"
   ]
  },
  {
   "cell_type": "code",
   "execution_count": 23,
   "metadata": {},
   "outputs": [
    {
     "data": {
      "text/html": [
       "<div>\n",
       "<style scoped>\n",
       "    .dataframe tbody tr th:only-of-type {\n",
       "        vertical-align: middle;\n",
       "    }\n",
       "\n",
       "    .dataframe tbody tr th {\n",
       "        vertical-align: top;\n",
       "    }\n",
       "\n",
       "    .dataframe thead th {\n",
       "        text-align: right;\n",
       "    }\n",
       "</style>\n",
       "<table border=\"1\" class=\"dataframe\">\n",
       "  <thead>\n",
       "    <tr style=\"text-align: right;\">\n",
       "      <th></th>\n",
       "      <th>Height</th>\n",
       "      <th>Width</th>\n",
       "      <th>Hostname</th>\n",
       "      <th>Hour</th>\n",
       "    </tr>\n",
       "  </thead>\n",
       "  <tbody>\n",
       "    <tr>\n",
       "      <th>0</th>\n",
       "      <td>90</td>\n",
       "      <td>728</td>\n",
       "      <td>stackoverflow.com</td>\n",
       "      <td>12:00:00</td>\n",
       "    </tr>\n",
       "    <tr>\n",
       "      <th>1</th>\n",
       "      <td>90</td>\n",
       "      <td>728</td>\n",
       "      <td>stackoverflow.com</td>\n",
       "      <td>12:00:00</td>\n",
       "    </tr>\n",
       "    <tr>\n",
       "      <th>2</th>\n",
       "      <td>272</td>\n",
       "      <td>300</td>\n",
       "      <td>www.dailymail.co.uk</td>\n",
       "      <td>20:00:00</td>\n",
       "    </tr>\n",
       "    <tr>\n",
       "      <th>3</th>\n",
       "      <td>0</td>\n",
       "      <td>0</td>\n",
       "      <td>www.youtube.com</td>\n",
       "      <td>15:00:00</td>\n",
       "    </tr>\n",
       "    <tr>\n",
       "      <th>4</th>\n",
       "      <td>94</td>\n",
       "      <td>728</td>\n",
       "      <td>www.youtube.com</td>\n",
       "      <td>14:00:00</td>\n",
       "    </tr>\n",
       "  </tbody>\n",
       "</table>\n",
       "</div>"
      ],
      "text/plain": [
       "  Height Width             Hostname      Hour\n",
       "0     90   728    stackoverflow.com  12:00:00\n",
       "1     90   728    stackoverflow.com  12:00:00\n",
       "2    272   300  www.dailymail.co.uk  20:00:00\n",
       "3      0     0      www.youtube.com  15:00:00\n",
       "4     94   728      www.youtube.com  14:00:00"
      ]
     },
     "execution_count": 23,
     "metadata": {},
     "output_type": "execute_result"
    }
   ],
   "source": [
    "df_beacon.head()"
   ]
  },
  {
   "cell_type": "code",
   "execution_count": 24,
   "metadata": {},
   "outputs": [],
   "source": [
    "# Build a dictionary that enumerates the unique values of Hostname and Hour \n",
    "unique_dict = None\n",
    "\n",
    "def unique_list(field):\n",
    "    \n",
    "    unique_values = df_beacon[field].unique()\n",
    "    unique_values.sort()\n",
    "    \n",
    "    global unique_dict\n",
    "    \n",
    "    unique_dict={} \n",
    "    \n",
    "    for i in range(len(unique_values)): \n",
    "        unique_dict.update( {unique_values[i] : i} )\n",
    "    \n",
    "    return unique_dict"
   ]
  },
  {
   "cell_type": "code",
   "execution_count": 25,
   "metadata": {},
   "outputs": [
    {
     "name": "stdout",
     "output_type": "stream",
     "text": [
      "Key-Value Dictionary for Hour\n",
      "0 : 05:00:00\n",
      "1 : 07:00:00\n",
      "2 : 08:00:00\n",
      "3 : 09:00:00\n",
      "4 : 10:00:00\n",
      "5 : 11:00:00\n",
      "6 : 12:00:00\n",
      "7 : 13:00:00\n",
      "8 : 14:00:00\n",
      "9 : 15:00:00\n",
      "10 : 16:00:00\n",
      "11 : 18:00:00\n",
      "12 : 19:00:00\n",
      "13 : 20:00:00\n",
      "14 : 21:00:00\n",
      "\n",
      "Key-Value Dictionary for Hostname\n",
      "0 : dzone.com\n",
      "1 : stackoverflow.com\n",
      "2 : tr.letgo.com\n",
      "3 : www.aftonbladet.se\n",
      "4 : www.byggahus.se\n",
      "5 : www.cheatsheet.com\n",
      "6 : www.dailymail.co.uk\n",
      "7 : www.google.com\n",
      "8 : www.hygglo.se\n",
      "9 : www.mkyong.com\n",
      "10 : www.salon.com\n",
      "11 : www.simplifiedpython.net\n",
      "12 : www.sitepoint.com\n",
      "13 : www.theguardian.com\n",
      "14 : www.youtube.com\n"
     ]
    }
   ],
   "source": [
    "# create new columns containing the encoded values \n",
    "\n",
    "print(\"Key-Value Dictionary for Hour\")\n",
    "df_beacon['HourEncoded'] = df_beacon['Hour'].apply(lambda x : unique_list('Hour')[x])\n",
    "for key, value in unique_dict.items(): \n",
    "    print(value, \":\", key)\n",
    "    \n",
    "print(\"\")\n",
    "\n",
    "df_beacon['HostEncoded'] = df_beacon['Hostname'].apply(lambda x : unique_list('Hostname')[x])\n",
    "print(\"Key-Value Dictionary for Hostname\")\n",
    "for key, value in unique_dict.items(): \n",
    "    print(value, \":\", key)"
   ]
  },
  {
   "cell_type": "code",
   "execution_count": 26,
   "metadata": {},
   "outputs": [
    {
     "data": {
      "text/html": [
       "<div>\n",
       "<style scoped>\n",
       "    .dataframe tbody tr th:only-of-type {\n",
       "        vertical-align: middle;\n",
       "    }\n",
       "\n",
       "    .dataframe tbody tr th {\n",
       "        vertical-align: top;\n",
       "    }\n",
       "\n",
       "    .dataframe thead th {\n",
       "        text-align: right;\n",
       "    }\n",
       "</style>\n",
       "<table border=\"1\" class=\"dataframe\">\n",
       "  <thead>\n",
       "    <tr style=\"text-align: right;\">\n",
       "      <th></th>\n",
       "      <th>Height</th>\n",
       "      <th>Width</th>\n",
       "      <th>Hostname</th>\n",
       "      <th>Hour</th>\n",
       "      <th>HourEncoded</th>\n",
       "      <th>HostEncoded</th>\n",
       "    </tr>\n",
       "  </thead>\n",
       "  <tbody>\n",
       "    <tr>\n",
       "      <th>0</th>\n",
       "      <td>90</td>\n",
       "      <td>728</td>\n",
       "      <td>stackoverflow.com</td>\n",
       "      <td>12:00:00</td>\n",
       "      <td>6</td>\n",
       "      <td>1</td>\n",
       "    </tr>\n",
       "    <tr>\n",
       "      <th>1</th>\n",
       "      <td>90</td>\n",
       "      <td>728</td>\n",
       "      <td>stackoverflow.com</td>\n",
       "      <td>12:00:00</td>\n",
       "      <td>6</td>\n",
       "      <td>1</td>\n",
       "    </tr>\n",
       "    <tr>\n",
       "      <th>2</th>\n",
       "      <td>272</td>\n",
       "      <td>300</td>\n",
       "      <td>www.dailymail.co.uk</td>\n",
       "      <td>20:00:00</td>\n",
       "      <td>13</td>\n",
       "      <td>6</td>\n",
       "    </tr>\n",
       "    <tr>\n",
       "      <th>3</th>\n",
       "      <td>0</td>\n",
       "      <td>0</td>\n",
       "      <td>www.youtube.com</td>\n",
       "      <td>15:00:00</td>\n",
       "      <td>9</td>\n",
       "      <td>14</td>\n",
       "    </tr>\n",
       "    <tr>\n",
       "      <th>4</th>\n",
       "      <td>94</td>\n",
       "      <td>728</td>\n",
       "      <td>www.youtube.com</td>\n",
       "      <td>14:00:00</td>\n",
       "      <td>8</td>\n",
       "      <td>14</td>\n",
       "    </tr>\n",
       "  </tbody>\n",
       "</table>\n",
       "</div>"
      ],
      "text/plain": [
       "  Height Width             Hostname      Hour  HourEncoded  HostEncoded\n",
       "0     90   728    stackoverflow.com  12:00:00            6            1\n",
       "1     90   728    stackoverflow.com  12:00:00            6            1\n",
       "2    272   300  www.dailymail.co.uk  20:00:00           13            6\n",
       "3      0     0      www.youtube.com  15:00:00            9           14\n",
       "4     94   728      www.youtube.com  14:00:00            8           14"
      ]
     },
     "execution_count": 26,
     "metadata": {},
     "output_type": "execute_result"
    }
   ],
   "source": [
    "df_beacon.head()"
   ]
  },
  {
   "cell_type": "code",
   "execution_count": 27,
   "metadata": {},
   "outputs": [
    {
     "data": {
      "image/png": "[encoded data removed]",
      "text/plain": [
       "<Figure size 432x288 with 1 Axes>"
      ]
     },
     "metadata": {
      "needs_background": "light"
     },
     "output_type": "display_data"
    }
   ],
   "source": [
    "# Looking at the classes disribution is clear that we are in the presence of an imbalanced dataset \n",
    "df_beacon['HostEncoded'].value_counts().plot(kind='bar', title='Classes distribution');"
   ]
  },
  {
   "cell_type": "code",
   "execution_count": 28,
   "metadata": {},
   "outputs": [
    {
     "data": {
      "text/plain": [
       "<seaborn.axisgrid.PairGrid at 0x7fa7fad452e8>"
      ]
     },
     "execution_count": 28,
     "metadata": {},
     "output_type": "execute_result"
    },
    {
     "data": {
      "image/png": "[encoded data removed]",
      "text/plain": [
       "<Figure size 795.55x720 with 20 Axes>"
      ]
     },
     "metadata": {
      "needs_background": "light"
     },
     "output_type": "display_data"
    }
   ],
   "source": [
    "import seaborn as sns\n",
    "\n",
    "sns.pairplot(df_beacon, hue=\"HostEncoded\")\n",
    "\n",
    "# Looking at the x axis of HostEncoded(target variable) plot is possible to see the classes distribution\n",
    "# and the height give us a wider distribution compared to the width\n",
    "# It is also possible to say that the classes are not linearly separable,\n",
    "# they cant be neatly separated by a line\n",
    "# so a single-layer neural network will not work well for this case "
   ]
  },
  {
   "cell_type": "code",
   "execution_count": 29,
   "metadata": {},
   "outputs": [],
   "source": [
    "from sklearn.preprocessing import scale\n",
    "\n",
    "# scale all the features to make the variance among them in the same range,\n",
    "# in order to prevent a particular feature to dominate others in the dataset.\n",
    "x = scale(df_beacon[['Height','HourEncoded']])\n",
    "y = df_beacon['HostEncoded']"
   ]
  },
  {
   "cell_type": "code",
   "execution_count": 30,
   "metadata": {},
   "outputs": [
    {
     "name": "stderr",
     "output_type": "stream",
     "text": [
      "Using TensorFlow backend.\n"
     ]
    }
   ],
   "source": [
    "import task_builder as tb\n",
    "\n",
    "from keras.utils.np_utils import to_categorical\n",
    "from sklearn.model_selection import train_test_split\n",
    "from sklearn.metrics import classification_report, accuracy_score, confusion_matrix\n",
    "\n",
    "import time\n",
    "import math as ma\n",
    "\n",
    "def build_train_and_evaluate(x, y, boolvar):\n",
    "    \n",
    "    #Build stage\n",
    "    \n",
    "    model = tb.get_NN_model()\n",
    "\n",
    "    model.compile(loss = tb.loss, optimizer = tb.optimizer, metrics = tb.metrics)\n",
    "    \n",
    "    model.summary()\n",
    "    print(\"\")\n",
    "    \n",
    "    # Trainning stage\n",
    "    \n",
    "    #create dummy columns/One hot encoding     \n",
    "    y_cat = to_categorical(y)\n",
    "\n",
    "    #split the data for testing and for training, test = 20% and train = 80% \n",
    "    x_train, x_test, y_train, y_test = train_test_split(x, y_cat, test_size=0.2, random_state=42)\n",
    "    \n",
    "    # save parameters for Bayesian inteligent search with hyperopt and hyperas\n",
    "    if (boolvar):\n",
    "        tb.x_train , tb.x_test, tb.y_train, tb.y_test = x_train, x_test, y_train, y_test\n",
    "    \n",
    "    #dont use all the training data, take a small % of it for the validation purposes  \n",
    "    \n",
    "    start = time.time()\n",
    "    train_model = model.fit(x_train, y_train, epochs = tb.epochs, \n",
    "                            validation_split = tb.v_split, verbose = tb.verbose)\n",
    "    end = time.time()\n",
    "    \n",
    "    Training_time = ma.ceil((end - start)/60)\n",
    "    print(\"Aprox training time in mins: \" + str(Training_time))\n",
    "    \n",
    "    #plot the training history\n",
    "    historydf = pd.DataFrame(train_model.history, index = train_model.epoch)    \n",
    "    historydf.plot(ylim =(0,1))\n",
    "    plt.title(\"History\", fontsize = 15)\n",
    "    \n",
    "    \n",
    "    # Evaluation stage\n",
    "    \n",
    "    score, acc = model.evaluate(x_train, y_train, verbose = 0)\n",
    "    print(\"Train set accuracy:\", str(round(acc,4)))\n",
    "    \n",
    "    y_pred = model.predict(x_test)\n",
    "    y_pred = (y_pred > 0.5)               #normalize the predictions to boolean variables\n",
    "    \n",
    "    #revert categorical data into classes\n",
    "    y_test_class = np.argmax(y_test, axis=1)\n",
    "    y_pred_class = np.argmax(y_pred, axis=1)\n",
    "    \n",
    "    results = np.argwhere(y_test_class == y_pred_class)   #get positive predicted results\n",
    "    test_acc = len(results) / len(y_pred_class)\n",
    "    print(\"Test set accuracy: \", str(round(test_acc, 4)))\n",
    "    print(\"\")\n",
    "    \n",
    "    #show the evaluation metrics (precision, recall, f1)\n",
    "    print(classification_report(y_test_class, y_pred_class))"
   ]
  },
  {
   "cell_type": "code",
   "execution_count": 31,
   "metadata": {},
   "outputs": [
    {
     "name": "stdout",
     "output_type": "stream",
     "text": [
      "_________________________________________________________________\n",
      "Layer (type)                 Output Shape              Param #   \n",
      "=================================================================\n",
      "dense_1 (Dense)              (None, 128)               384       \n",
      "_________________________________________________________________\n",
      "dropout_1 (Dropout)          (None, 128)               0         \n",
      "_________________________________________________________________\n",
      "dense_2 (Dense)              (None, 64)                8256      \n",
      "_________________________________________________________________\n",
      "dropout_2 (Dropout)          (None, 64)                0         \n",
      "_________________________________________________________________\n",
      "dense_3 (Dense)              (None, 64)                4160      \n",
      "_________________________________________________________________\n",
      "dropout_3 (Dropout)          (None, 64)                0         \n",
      "_________________________________________________________________\n",
      "dense_4 (Dense)              (None, 15)                975       \n",
      "=================================================================\n",
      "Total params: 13,775\n",
      "Trainable params: 13,775\n",
      "Non-trainable params: 0\n",
      "_________________________________________________________________\n",
      "\n",
      "Aprox training time in mins: 1\n",
      "Train set accuracy: 0.975\n",
      "Test set accuracy:  0.7527\n",
      "\n",
      "              precision    recall  f1-score   support\n",
      "\n",
      "           0       0.00      0.00      0.00         5\n",
      "           1       0.70      0.78      0.74        36\n",
      "           2       0.00      0.00      0.00         1\n",
      "           3       0.93      0.90      0.91       273\n",
      "           4       0.00      0.00      0.00         5\n",
      "           5       0.00      0.00      0.00         2\n",
      "           6       0.59      0.71      0.64        24\n",
      "           7       0.82      0.86      0.84        36\n",
      "           9       0.00      0.00      0.00         9\n",
      "          10       1.00      0.67      0.80         3\n",
      "          11       0.00      0.00      0.00         6\n",
      "          12       0.50      0.29      0.36        21\n",
      "          13       0.70      0.58      0.64        36\n",
      "          14       0.00      0.00      0.00         8\n",
      "\n",
      "    accuracy                           0.75       465\n",
      "   macro avg       0.37      0.34      0.35       465\n",
      "weighted avg       0.78      0.75      0.76       465\n",
      "\n"
     ]
    },
    {
     "data": {
      "image/png": "[encoded data removed]",
      "text/plain": [
       "<Figure size 432x288 with 1 Axes>"
      ]
     },
     "metadata": {
      "needs_background": "light"
     },
     "output_type": "display_data"
    }
   ],
   "source": [
    "build_train_and_evaluate(x, y, False)"
   ]
  },
  {
   "cell_type": "markdown",
   "metadata": {},
   "source": [
    "## 5 - Model Improvement \n",
    "\n",
    "As we saw before, the dataset is very imbalanced, so the goal is to balance the data, build, train and evaluate the new balanced data then compare the results obtained"
   ]
  },
  {
   "cell_type": "code",
   "execution_count": 32,
   "metadata": {},
   "outputs": [
    {
     "data": {
      "text/html": [
       "<div>\n",
       "<style scoped>\n",
       "    .dataframe tbody tr th:only-of-type {\n",
       "        vertical-align: middle;\n",
       "    }\n",
       "\n",
       "    .dataframe tbody tr th {\n",
       "        vertical-align: top;\n",
       "    }\n",
       "\n",
       "    .dataframe thead th {\n",
       "        text-align: right;\n",
       "    }\n",
       "</style>\n",
       "<table border=\"1\" class=\"dataframe\">\n",
       "  <thead>\n",
       "    <tr style=\"text-align: right;\">\n",
       "      <th></th>\n",
       "      <th>Height</th>\n",
       "      <th>Width</th>\n",
       "      <th>Hostname</th>\n",
       "      <th>Hour</th>\n",
       "      <th>HourEncoded</th>\n",
       "      <th>HostEncoded</th>\n",
       "    </tr>\n",
       "  </thead>\n",
       "  <tbody>\n",
       "    <tr>\n",
       "      <th>897</th>\n",
       "      <td>0</td>\n",
       "      <td>0</td>\n",
       "      <td>www.hygglo.se</td>\n",
       "      <td>18:00:00</td>\n",
       "      <td>11</td>\n",
       "      <td>8</td>\n",
       "    </tr>\n",
       "  </tbody>\n",
       "</table>\n",
       "</div>"
      ],
      "text/plain": [
       "    Height Width       Hostname      Hour  HourEncoded  HostEncoded\n",
       "897      0     0  www.hygglo.se  18:00:00           11            8"
      ]
     },
     "execution_count": 32,
     "metadata": {},
     "output_type": "execute_result"
    }
   ],
   "source": [
    "#!{sys.executable} -m pip install imblearn\n",
    "\n",
    "# As antecipated before, we have an imbalanced dataset, \n",
    "# lets try to work with smote in order to balance the dataset\n",
    "from imblearn.over_sampling import SMOTE \n",
    "\n",
    "#Smote requires at least 3 samples from each class\n",
    "#so first we need to find the classes that have less than 3 samples\n",
    "df = df_beacon[df_beacon.groupby('HostEncoded').HostEncoded.transform(len) < 3]\n",
    "df"
   ]
  },
  {
   "cell_type": "code",
   "execution_count": 33,
   "metadata": {},
   "outputs": [],
   "source": [
    "# for every class with less than 3 samples, replicate the entries two times\n",
    "for i in range(2):\n",
    "    df_beacon = df_beacon.append(df, ignore_index=True)"
   ]
  },
  {
   "cell_type": "code",
   "execution_count": 34,
   "metadata": {},
   "outputs": [],
   "source": [
    "x = scale(df_beacon[['Height','HourEncoded']])\n",
    "y = df_beacon['HostEncoded']"
   ]
  },
  {
   "cell_type": "code",
   "execution_count": 35,
   "metadata": {},
   "outputs": [],
   "source": [
    "# SMOTE is an over-sampling method that creates synthetic samples of the minority classes\n",
    "sm = SMOTE(random_state = 42, k_neighbors=2)\n",
    "x_train_res, y_train_res = sm.fit_sample(x, y) "
   ]
  },
  {
   "cell_type": "code",
   "execution_count": 36,
   "metadata": {},
   "outputs": [
    {
     "name": "stdout",
     "output_type": "stream",
     "text": [
      "class: 0  Before: 24  - After: 1267\n",
      "class: 1  Before: 206  - After: 1267\n",
      "class: 2  Before: 5  - After: 1267\n",
      "class: 3  Before: 1267  - After: 1267\n",
      "class: 4  Before: 18  - After: 1267\n",
      "class: 5  Before: 6  - After: 1267\n",
      "class: 6  Before: 152  - After: 1267\n",
      "class: 7  Before: 183  - After: 1267\n",
      "class: 8  Before: 3  - After: 1267\n",
      "class: 9  Before: 45  - After: 1267\n",
      "class: 10  Before: 22  - After: 1267\n",
      "class: 11  Before: 18  - After: 1267\n",
      "class: 12  Before: 120  - After: 1267\n",
      "class: 13  Before: 210  - After: 1267\n",
      "class: 14  Before: 47  - After: 1267\n"
     ]
    }
   ],
   "source": [
    "# print the classes samples before and after applying smote\n",
    "for i in range(len(df_beacon['HostEncoded'].unique())):\n",
    "    print(\"class:\", i, \" Before:\", sum(y == i), \" - After:\", sum(y_train_res == i))"
   ]
  },
  {
   "cell_type": "code",
   "execution_count": 37,
   "metadata": {},
   "outputs": [
    {
     "name": "stdout",
     "output_type": "stream",
     "text": [
      "_________________________________________________________________\n",
      "Layer (type)                 Output Shape              Param #   \n",
      "=================================================================\n",
      "dense_1 (Dense)              (None, 128)               384       \n",
      "_________________________________________________________________\n",
      "dropout_1 (Dropout)          (None, 128)               0         \n",
      "_________________________________________________________________\n",
      "dense_2 (Dense)              (None, 64)                8256      \n",
      "_________________________________________________________________\n",
      "dropout_2 (Dropout)          (None, 64)                0         \n",
      "_________________________________________________________________\n",
      "dense_3 (Dense)              (None, 64)                4160      \n",
      "_________________________________________________________________\n",
      "dropout_3 (Dropout)          (None, 64)                0         \n",
      "_________________________________________________________________\n",
      "dense_4 (Dense)              (None, 15)                975       \n",
      "=================================================================\n",
      "Total params: 13,775\n",
      "Trainable params: 13,775\n",
      "Non-trainable params: 0\n",
      "_________________________________________________________________\n",
      "\n",
      "Aprox training time in mins: 4\n",
      "Train set accuracy: 0.9751\n",
      "Test set accuracy:  0.7772\n",
      "\n",
      "              precision    recall  f1-score   support\n",
      "\n",
      "           0       0.56      0.89      0.69       244\n",
      "           1       0.85      0.85      0.85       267\n",
      "           2       1.00      1.00      1.00       233\n",
      "           3       0.72      0.75      0.74       252\n",
      "           4       1.00      0.96      0.98       248\n",
      "           5       0.52      0.19      0.28       265\n",
      "           6       0.46      0.68      0.55       267\n",
      "           7       0.98      0.98      0.98       245\n",
      "           8       0.98      1.00      0.99       234\n",
      "           9       0.96      0.94      0.95       274\n",
      "          10       1.00      1.00      1.00       270\n",
      "          11       0.68      0.58      0.62       261\n",
      "          12       0.52      0.63      0.57       251\n",
      "          13       0.74      0.59      0.66       239\n",
      "          14       0.92      0.66      0.77       251\n",
      "\n",
      "    accuracy                           0.78      3801\n",
      "   macro avg       0.79      0.78      0.77      3801\n",
      "weighted avg       0.79      0.78      0.77      3801\n",
      "\n"
     ]
    },
    {
     "data": {
      "image/png": "[encoded data removed]",
      "text/plain": [
       "<Figure size 432x288 with 1 Axes>"
      ]
     },
     "metadata": {
      "needs_background": "light"
     },
     "output_type": "display_data"
    }
   ],
   "source": [
    "build_train_and_evaluate(x_train_res, y_train_res, True)"
   ]
  },
  {
   "cell_type": "markdown",
   "metadata": {},
   "source": [
    "Although the test accuracy is almost the same as before, the minority classes have improved a lot their scores.\n",
    "So we can say that the model is performing better than before while classifying the classes \n",
    "even though accuracy is similar. This can prove that Precision-Recall \n",
    "are a useful measure of success of prediction when the classes are very imbalanced. "
   ]
  },
  {
   "cell_type": "markdown",
   "metadata": {},
   "source": [
    "## 6 - Bayesian inteligent search of hyper-parameter combination\n",
    "\n",
    "Use Bayesian search to find the hyperparameters that return the model best performance."
   ]
  },
  {
   "cell_type": "code",
   "execution_count": 38,
   "metadata": {},
   "outputs": [],
   "source": [
    "from hyperas.distributions import choice, uniform\n",
    "from hyperopt import Trials, STATUS_OK, tpe, rand\n",
    "from hyperas import optim"
   ]
  },
  {
   "cell_type": "code",
   "execution_count": 39,
   "metadata": {},
   "outputs": [],
   "source": [
    "def create_model():\n",
    "    \n",
    "    model = tb.Sequential()\n",
    "    \n",
    "    model.add(tb.Dense(128, input_shape = (tb.input_size,), activation = tb.activation))\n",
    "    model.add(tb.Dropout({{uniform(0, 1)}}))\n",
    "    model.add(tb.Dense({{choice([32, 64, 128])}}, activation = tb.activation))\n",
    "    model.add(tb.Dropout({{uniform(0, 1)}}))\n",
    "    model.add(tb.Dense({{choice([32, 64, 128])}}, activation = tb.activation))\n",
    "    model.add(tb.Dropout({{uniform(0, 1)}}))\n",
    "    model.add(tb.Dense(tb.output_size, activation = tb.output_activation))\n",
    "\n",
    "    model.compile(loss = tb.loss, optimizer = {{choice(['rmsprop', 'adam', 'sgd'])}}, \n",
    "                  metrics = tb.metrics)\n",
    "    \n",
    "    result = model.fit(tb.x_train, tb.y_train,\n",
    "              batch_size = {{choice([16, 32, 64, 128])}},\n",
    "              epochs = {{choice([50, 100, 150, 200])}},\n",
    "              verbose = tb.verbose,\n",
    "              validation_split = tb.v_split)    \n",
    "\n",
    "    validation_acc = np.amax(result.history['val_acc']) \n",
    "    print('Best validation acc of epoch:', validation_acc)\n",
    "    return {'loss': -validation_acc, 'status': STATUS_OK, 'model': model}"
   ]
  },
  {
   "cell_type": "code",
   "execution_count": 40,
   "metadata": {},
   "outputs": [],
   "source": [
    "def data():\n",
    "    \n",
    "    return tb.x_train , tb.x_test, tb.y_train, tb.y_test"
   ]
  },
  {
   "cell_type": "code",
   "execution_count": 41,
   "metadata": {},
   "outputs": [
    {
     "name": "stdout",
     "output_type": "stream",
     "text": [
      ">>> Imports:\n",
      "#coding=utf-8\n",
      "\n",
      "try:\n",
      "    import pandas as pd\n",
      "except:\n",
      "    pass\n",
      "\n",
      "try:\n",
      "    import numpy as np\n",
      "except:\n",
      "    pass\n",
      "\n",
      "try:\n",
      "    from datetime import datetime\n",
      "except:\n",
      "    pass\n",
      "\n",
      "try:\n",
      "    import matplotlib\n",
      "except:\n",
      "    pass\n",
      "\n",
      "try:\n",
      "    import matplotlib.pyplot as plt\n",
      "except:\n",
      "    pass\n",
      "\n",
      "try:\n",
      "    import seaborn as sns\n",
      "except:\n",
      "    pass\n",
      "\n",
      "try:\n",
      "    import json\n",
      "except:\n",
      "    pass\n",
      "\n",
      "try:\n",
      "    import re\n",
      "except:\n",
      "    pass\n",
      "\n",
      "try:\n",
      "    import random\n",
      "except:\n",
      "    pass\n",
      "\n",
      "try:\n",
      "    import warnings\n",
      "except:\n",
      "    pass\n",
      "\n",
      "try:\n",
      "    import seaborn as sns\n",
      "except:\n",
      "    pass\n",
      "\n",
      "try:\n",
      "    from sklearn.preprocessing import scale\n",
      "except:\n",
      "    pass\n",
      "\n",
      "try:\n",
      "    import task_builder as tb\n",
      "except:\n",
      "    pass\n",
      "\n",
      "try:\n",
      "    from keras.utils.np_utils import to_categorical\n",
      "except:\n",
      "    pass\n",
      "\n",
      "try:\n",
      "    from sklearn.model_selection import train_test_split\n",
      "except:\n",
      "    pass\n",
      "\n",
      "try:\n",
      "    from sklearn.metrics import classification_report, accuracy_score, confusion_matrix\n",
      "except:\n",
      "    pass\n",
      "\n",
      "try:\n",
      "    import time\n",
      "except:\n",
      "    pass\n",
      "\n",
      "try:\n",
      "    import math as ma\n",
      "except:\n",
      "    pass\n",
      "\n",
      "try:\n",
      "    from imblearn.over_sampling import SMOTE\n",
      "except:\n",
      "    pass\n",
      "\n",
      "try:\n",
      "    from hyperas.distributions import choice, uniform\n",
      "except:\n",
      "    pass\n",
      "\n",
      "try:\n",
      "    from hyperopt import Trials, STATUS_OK, tpe, rand\n",
      "except:\n",
      "    pass\n",
      "\n",
      "try:\n",
      "    from hyperas import optim\n",
      "except:\n",
      "    pass\n",
      "\n",
      ">>> Hyperas search space:\n",
      "\n",
      "def get_space():\n",
      "    return {\n",
      "        'Dropout': hp.uniform('Dropout', 0, 1),\n",
      "        'Dense': hp.choice('Dense', [32, 64, 128]),\n",
      "        'Dropout_1': hp.uniform('Dropout_1', 0, 1),\n",
      "        'Dense_1': hp.choice('Dense_1', [32, 64, 128]),\n",
      "        'Dropout_2': hp.uniform('Dropout_2', 0, 1),\n",
      "        'optimizer': hp.choice('optimizer', ['rmsprop', 'adam', 'sgd']),\n",
      "        'batch_size': hp.choice('batch_size', [16, 32, 64, 128]),\n",
      "        'epochs': hp.choice('epochs', [50, 100, 150, 200]),\n",
      "    }\n",
      "\n",
      ">>> Data\n",
      "1: \n",
      "2: \n",
      "3: \n",
      "4: \n",
      "5: \n",
      ">>> Resulting replaced keras model:\n",
      "\n",
      "   1: def keras_fmin_fnct(space):\n",
      "   2: \n",
      "   3:     \n",
      "   4:     model = tb.Sequential()\n",
      "   5:     \n",
      "   6:     model.add(tb.Dense(128, input_shape = (tb.input_size,), activation = tb.activation))\n",
      "   7:     model.add(tb.Dropout(space['Dropout']))\n",
      "   8:     model.add(tb.Dense(space['Dense'], activation = tb.activation))\n",
      "   9:     model.add(tb.Dropout(space['Dropout_1']))\n",
      "  10:     model.add(tb.Dense(space['Dense_1'], activation = tb.activation))\n",
      "  11:     model.add(tb.Dropout(space['Dropout_2']))\n",
      "  12:     model.add(tb.Dense(tb.output_size, activation = tb.output_activation))\n",
      "  13: \n",
      "  14:     model.compile(loss = tb.loss, optimizer = space['optimizer'], \n",
      "  15:                   metrics = tb.metrics)\n",
      "  16:     \n",
      "  17:     result = model.fit(tb.x_train, tb.y_train,\n",
      "  18:               batch_size = space['batch_size'],\n",
      "  19:               epochs = space['epochs'],\n",
      "  20:               verbose = tb.verbose,\n",
      "  21:               validation_split = tb.v_split)    \n",
      "  22: \n",
      "  23:     validation_acc = np.amax(result.history['val_acc']) \n",
      "  24:     print('Best validation acc of epoch:', validation_acc)\n",
      "  25:     return {'loss': -validation_acc, 'status': STATUS_OK, 'model': model}\n",
      "  26: \n",
      "Best validation acc of epoch:                      \n",
      "0.9425378325030962                                 \n",
      "Best validation acc of epoch:                                                 \n",
      "0.9587990701943147                                                            \n",
      "Best validation acc of epoch:                                                 \n",
      "0.9710278514574265                                                            \n",
      "Best validation acc of epoch:                                                 \n",
      "0.9333333373069763                                                            \n",
      "Best validation acc of epoch:                                                 \n",
      "0.9709401938336841                                                            \n",
      "100%|██████████| 5/5 [58:50<00:00, 706.07s/it, best loss: -0.9710278514574265]\n",
      "Aprox hyper-parameter search time in mins: 59\n"
     ]
    }
   ],
   "source": [
    "start = time.time()\n",
    "\n",
    "best_run, best_model = optim.minimize(model = create_model,\n",
    "                                          data = data,\n",
    "                                          algo = tpe.suggest,\n",
    "                                          max_evals = 5,\n",
    "                                          trials = Trials(),\n",
    "                                          notebook_name ='task')\n",
    "\n",
    "end = time.time()\n",
    "\n",
    "Training_time = ma.ceil((end - start)/60)\n",
    "print(\"Aprox hyper-parameter search time in mins: \" + str(Training_time))"
   ]
  },
  {
   "cell_type": "code",
   "execution_count": 42,
   "metadata": {},
   "outputs": [
    {
     "name": "stdout",
     "output_type": "stream",
     "text": [
      "Evalutation of best performing model:\n",
      "3801/3801 [==============================] - 1s 353us/step\n",
      "[0.05731355331757764, 0.9693063470885115]\n",
      "Best performing model chosen hyper-parameters:\n",
      "{'Dense': 2, 'Dense_1': 1, 'Dropout': 0.14514364721165218, 'Dropout_1': 0.47268542196596874, 'Dropout_2': 0.7275581656084844, 'batch_size': 2, 'epochs': 2, 'optimizer': 1}\n"
     ]
    }
   ],
   "source": [
    "x_train, x_test, y_train, y_test = data()\n",
    "print(\"Evalutation of best performing model:\")\n",
    "print(best_model.evaluate(x_test, y_test))\n",
    "print(\"Best performing model chosen hyper-parameters:\")\n",
    "print(best_run)"
   ]
  }
 ],
 "metadata": {
  "kernelspec": {
   "display_name": "Python 3",
   "language": "python",
   "name": "python3"
  },
  "language_info": {
   "codemirror_mode": {
    "name": "ipython",
    "version": 3
   },
   "file_extension": ".py",
   "mimetype": "text/x-python",
   "name": "python",
   "nbconvert_exporter": "python",
   "pygments_lexer": "ipython3",
   "version": "3.6.8"
  }
 },
 "nbformat": 4,
 "nbformat_minor": 2
}
